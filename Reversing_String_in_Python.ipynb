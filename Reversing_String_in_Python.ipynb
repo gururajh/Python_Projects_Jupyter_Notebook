{
 "cells": [
  {
   "cell_type": "code",
   "execution_count": 6,
   "metadata": {},
   "outputs": [
    {
     "data": {
      "text/plain": [
       "'Strings follow the sequence protocol in Python. \\nAnd all sequences support an interesting feature called slicing. \\nYou can view slicing as an extension of the square-brackets indexing syntax.\\nIt includes a special case where slicing a sequence with “[::-1]” produces a reversed copy. \\nBecause Python strings are sequences this is a quick and easy way to get a reversed copy of a string:'"
      ]
     },
     "execution_count": 6,
     "metadata": {},
     "output_type": "execute_result"
    }
   ],
   "source": [
    "# 1 - Reversing a Python String With the “[::-1]” Slicing Trick\n",
    "\n",
    "'''Strings follow the sequence protocol in Python. \n",
    "And all sequences support an interesting feature called slicing. \n",
    "You can view slicing as an extension of the square-brackets indexing syntax.\n",
    "It includes a special case where slicing a sequence with “[::-1]” produces a reversed copy. \n",
    "Because Python strings are sequences this is a quick and easy way to get a reversed copy of a string:'''"
   ]
  },
  {
   "cell_type": "code",
   "execution_count": 5,
   "metadata": {},
   "outputs": [
    {
     "data": {
      "text/plain": [
       "'OBRUT'"
      ]
     },
     "execution_count": 5,
     "metadata": {},
     "output_type": "execute_result"
    }
   ],
   "source": [
    "'TURBO'[::-1]"
   ]
  },
  {
   "cell_type": "code",
   "execution_count": 7,
   "metadata": {},
   "outputs": [],
   "source": [
    "def reverse_string1(s):\n",
    "    \"\"\"Return a reversed copy of `s`\"\"\"\n",
    "    return s[::-1]"
   ]
  },
  {
   "cell_type": "code",
   "execution_count": 8,
   "metadata": {},
   "outputs": [],
   "source": [
    "# 2 -Reversing a Python String Using reversed() and str.join()"
   ]
  },
  {
   "cell_type": "code",
   "execution_count": 19,
   "metadata": {},
   "outputs": [],
   "source": [
    "def reverse_string2(s):\n",
    "    \"\"\"Return a reversed copy of `s`\"\"\"\n",
    "    return \"\".join(reversed(s))"
   ]
  },
  {
   "cell_type": "code",
   "execution_count": 10,
   "metadata": {},
   "outputs": [],
   "source": [
    "# Option 3: The “Classic” In-Place String Reversal Algorithm Ported to Python"
   ]
  },
  {
   "cell_type": "code",
   "execution_count": 11,
   "metadata": {},
   "outputs": [],
   "source": [
    "def reverse_string3(s):\n",
    "    \"\"\"Return a reversed copy of `s`\"\"\"\n",
    "    chars = list(s)\n",
    "    for i in range(len(s) // 2):\n",
    "        tmp = chars[i]\n",
    "        chars[i] = chars[len(s) - i - 1]\n",
    "        chars[len(s) - i - 1] = tmp\n",
    "    return ''.join(chars)"
   ]
  },
  {
   "cell_type": "code",
   "execution_count": 13,
   "metadata": {},
   "outputs": [],
   "source": [
    "import timeit\n",
    "s = 'abcdefghijklmnopqrstuvwxyz' * 10"
   ]
  },
  {
   "cell_type": "code",
   "execution_count": 14,
   "metadata": {},
   "outputs": [],
   "source": [
    "s = 'abcdefghijklmnopqrstuvwxyz' * 10"
   ]
  },
  {
   "cell_type": "code",
   "execution_count": 15,
   "metadata": {},
   "outputs": [
    {
     "data": {
      "text/plain": [
       "[0.6848115339962533, 0.7366074129968183, 0.7358982900041156]"
      ]
     },
     "execution_count": 15,
     "metadata": {},
     "output_type": "execute_result"
    }
   ],
   "source": [
    "timeit.repeat(lambda: reverse_string1(s))\n",
    "[0.6848115339962533, 0.7366074129968183, 0.7358982900041156]"
   ]
  },
  {
   "cell_type": "code",
   "execution_count": 16,
   "metadata": {},
   "outputs": [
    {
     "data": {
      "text/plain": [
       "[0.6363716519999798,\n",
       " 0.624560468000027,\n",
       " 0.6251268389999041,\n",
       " 0.6217402849999871,\n",
       " 0.6225777090000975]"
      ]
     },
     "execution_count": 16,
     "metadata": {},
     "output_type": "execute_result"
    }
   ],
   "source": [
    "timeit.repeat(lambda: reverse_string1(s))"
   ]
  },
  {
   "cell_type": "code",
   "execution_count": 20,
   "metadata": {},
   "outputs": [
    {
     "data": {
      "text/plain": [
       "[6.038283125999897,\n",
       " 5.942226112000071,\n",
       " 5.939104081999858,\n",
       " 5.97239065399981,\n",
       " 5.943646233999971]"
      ]
     },
     "execution_count": 20,
     "metadata": {},
     "output_type": "execute_result"
    }
   ],
   "source": [
    "timeit.repeat(lambda: reverse_string2(s))"
   ]
  },
  {
   "cell_type": "code",
   "execution_count": 21,
   "metadata": {},
   "outputs": [
    {
     "data": {
      "text/plain": [
       "[59.98377122800002,\n",
       " 56.77655790099993,\n",
       " 56.57679975100018,\n",
       " 56.574963015999856,\n",
       " 56.801577997000095]"
      ]
     },
     "execution_count": 21,
     "metadata": {},
     "output_type": "execute_result"
    }
   ],
   "source": [
    "timeit.repeat(lambda: reverse_string3(s))"
   ]
  },
  {
   "cell_type": "code",
   "execution_count": 20,
   "metadata": {},
   "outputs": [
    {
     "name": "stdout",
     "output_type": "stream",
     "text": [
      "LiBgElX8\n"
     ]
    }
   ],
   "source": [
    "#Generate a password with length \"\"passlen\"\n",
    "# with no duplicate characters in the word\n",
    "import random\n",
    "s=\"abcdefghijklmnopqrstuvwxyz0123456789ABCDEFGHIJKLMNOPQRSTUVWXYZ!@#$%^&*()?\"\n",
    "passlen=8\n",
    "p=\"\".join(random.sample(s,passlen))\n",
    "print(p)"
   ]
  },
  {
   "cell_type": "code",
   "execution_count": null,
   "metadata": {},
   "outputs": [],
   "source": []
  },
  {
   "cell_type": "code",
   "execution_count": null,
   "metadata": {},
   "outputs": [],
   "source": []
  }
 ],
 "metadata": {
  "kernelspec": {
   "display_name": "Python 3",
   "language": "python",
   "name": "python3"
  },
  "language_info": {
   "codemirror_mode": {
    "name": "ipython",
    "version": 3
   },
   "file_extension": ".py",
   "mimetype": "text/x-python",
   "name": "python",
   "nbconvert_exporter": "python",
   "pygments_lexer": "ipython3",
   "version": "3.7.4"
  }
 },
 "nbformat": 4,
 "nbformat_minor": 2
}
